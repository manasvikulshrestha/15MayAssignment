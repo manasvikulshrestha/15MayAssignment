{
 "cells": [
  {
   "cell_type": "markdown",
   "id": "1d959252-06d3-4c83-b63d-a06ce77cb5e8",
   "metadata": {},
   "source": [
    "Q1. How do you comment code in Python? What are the different types of comments? \n",
    "A1. Comments in Python are identified with a hash symbol, #, and extend to the end of the line. Hash characters in a string are not considered comments, however. There are three ways to write a comment - as a separate line, beside the corresponding statement of code, or as a multi-line comment block.\n",
    "There are three types of comments: single-line, multi-line, and docstring comments. "
   ]
  },
  {
   "cell_type": "markdown",
   "id": "98d5013f-934a-482d-9d1b-eec9b65072e3",
   "metadata": {},
   "source": [
    "Q2. What are variables in Python? How do you declare and assign values to variables? \n",
    "A2. A Python variable is a symbolic name that is a reference or pointer to an object. Once an object is assigned to a variable, you can refer to the object by that name. But the data itself is still contained within the object. \n",
    "For example: n = 300.\n",
    "In Python, we need not declare a variable with some specific data type.\n",
    "Python has no command for declaring a variable. A variable is created when some value is assigned to it. The value assigned to a variable determines the data type of that variable.\n",
    "The assignment operator, denoted by the “=” symbol, is the operator that is used to assign values to variables in Python."
   ]
  },
  {
   "cell_type": "markdown",
   "id": "294ce517-45a1-45ac-a3fd-dcc7bb6bf374",
   "metadata": {},
   "source": [
    "Q3. How do you convert one data type to another in Python? \n",
    "A3.Python defines type conversion functions like int(), float(), str() to directly convert one data type into another. This type of conversion is also called typecasting because the user casts (change) the data type of the objects. "
   ]
  },
  {
   "cell_type": "markdown",
   "id": "74498fe0-934a-406d-902a-a4f1468dee5e",
   "metadata": {},
   "source": [
    "Q4. How do you write and execute a Python script from the command line?\n",
    "A4. To write and execute a Python script we need to open a command line and type the word python followed by the path to your script file, then hit the ENTER button from the keyboard."
   ]
  },
  {
   "cell_type": "markdown",
   "id": "df8d2b80-ae99-4be3-a025-97b4e82af6b8",
   "metadata": {},
   "source": [
    "Q5. Given a list my_list = [1, 2, 3, 4, 5], write the code to slice the list and obtain the sub-list [2, 3]. "
   ]
  },
  {
   "cell_type": "code",
   "execution_count": 2,
   "id": "322a5f1d-468f-49e2-90bc-bfd4cdfd89a4",
   "metadata": {},
   "outputs": [
    {
     "data": {
      "text/plain": [
       "[2, 3]"
      ]
     },
     "execution_count": 2,
     "metadata": {},
     "output_type": "execute_result"
    }
   ],
   "source": [
    "my_list = [1, 2, 3, 4, 5]\n",
    "sub_list= my_list[1:3]\n",
    "sub_list"
   ]
  },
  {
   "cell_type": "markdown",
   "id": "aacdc555-d81d-4b92-8ee7-59817d21b08f",
   "metadata": {},
   "source": [
    "Q6. What is a complex number in mathematics, and how is it represented in Python? \n",
    "A6. A complex number is a number that can be expressed in the form of a + ib where a represents the real part, and b is the imaginary part.\n",
    "Python helps to tackle and manipulate them. It is written in the form of (x + yj) where x and y are real numbers and j is an imaginary number which is the square root of -1."
   ]
  },
  {
   "cell_type": "markdown",
   "id": "b377b5d2-c7aa-4590-9af4-1998ba003a9e",
   "metadata": {},
   "source": [
    "Q7. What is the correct way to declare a variable named age and assign the value 25 to it? "
   ]
  },
  {
   "cell_type": "code",
   "execution_count": 3,
   "id": "47c33c83-2fec-414a-8337-41d403ed6dcc",
   "metadata": {},
   "outputs": [],
   "source": [
    "age = 25"
   ]
  },
  {
   "cell_type": "markdown",
   "id": "d10b753b-901b-4094-97ec-4dfd2fe8404f",
   "metadata": {},
   "source": [
    "Q8. Declare a variable named price and assign the value 9.99 to it. What data type does this variable  belong to? \n",
    "A8. This variable is of float data type."
   ]
  },
  {
   "cell_type": "code",
   "execution_count": 4,
   "id": "8d0c0f77-95f1-4309-921a-7299b3c2233e",
   "metadata": {},
   "outputs": [],
   "source": [
    "price = 9.99"
   ]
  },
  {
   "cell_type": "markdown",
   "id": "2346c809-8c3c-4bd1-9c8e-b90109d517fb",
   "metadata": {},
   "source": [
    "Q9. Create a variable named name and assign your full name to it as a string. How would you print the  value of this variable? "
   ]
  },
  {
   "cell_type": "code",
   "execution_count": 5,
   "id": "ff6a2929-c877-4bf8-bbba-46886749ee7b",
   "metadata": {},
   "outputs": [
    {
     "name": "stdout",
     "output_type": "stream",
     "text": [
      "Manasvi Kulshrestha\n"
     ]
    }
   ],
   "source": [
    "name = 'Manasvi Kulshrestha'\n",
    "print(name)"
   ]
  },
  {
   "cell_type": "markdown",
   "id": "676533da-4f3f-48f5-b9d4-0d80f95e1751",
   "metadata": {},
   "source": [
    "Q10. Given the string \"Hello, World!\", extract the substring \"World\". "
   ]
  },
  {
   "cell_type": "code",
   "execution_count": 6,
   "id": "8ea269a5-69df-49ab-a8c3-b8ac0e3b454d",
   "metadata": {},
   "outputs": [
    {
     "data": {
      "text/plain": [
       "'World'"
      ]
     },
     "execution_count": 6,
     "metadata": {},
     "output_type": "execute_result"
    }
   ],
   "source": [
    "mystr = \"Hello, World!\"\n",
    "newstr = mystr[7:12]\n",
    "newstr"
   ]
  },
  {
   "cell_type": "markdown",
   "id": "a4863fd7-4999-41d3-aa4f-df3373595e73",
   "metadata": {},
   "source": [
    "Q11. Create a variable named \"is_student\" and assign it a boolean value indicating whether you are  currently a student or not."
   ]
  },
  {
   "cell_type": "code",
   "execution_count": 7,
   "id": "a21a3441-ce4a-415b-b627-7688540a3ae5",
   "metadata": {},
   "outputs": [
    {
     "data": {
      "text/plain": [
       "True"
      ]
     },
     "execution_count": 7,
     "metadata": {},
     "output_type": "execute_result"
    }
   ],
   "source": [
    "is_student = True\n",
    "is_student"
   ]
  }
 ],
 "metadata": {
  "kernelspec": {
   "display_name": "Python 3 (ipykernel)",
   "language": "python",
   "name": "python3"
  },
  "language_info": {
   "codemirror_mode": {
    "name": "ipython",
    "version": 3
   },
   "file_extension": ".py",
   "mimetype": "text/x-python",
   "name": "python",
   "nbconvert_exporter": "python",
   "pygments_lexer": "ipython3",
   "version": "3.10.8"
  }
 },
 "nbformat": 4,
 "nbformat_minor": 5
}
